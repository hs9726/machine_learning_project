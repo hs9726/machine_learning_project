{
  "cells": [
    {
      "cell_type": "markdown",
      "metadata": {
        "id": "view-in-github",
        "colab_type": "text"
      },
      "source": [
        "<a href=\"https://colab.research.google.com/github/hs9726/machine_learning_project/blob/main/%ED%85%8C%EC%8A%A4%ED%8A%B8_%ED%94%84%EB%A1%9C%EC%A0%9D%ED%8A%B8.ipynb\" target=\"_parent\"><img src=\"https://colab.research.google.com/assets/colab-badge.svg\" alt=\"Open In Colab\"/></a>"
      ]
    },
    {
      "cell_type": "code",
      "execution_count": null,
      "metadata": {
        "colab": {
          "base_uri": "https://localhost:8080/",
          "height": 301
        },
        "id": "iMGx5-jZN-H5",
        "outputId": "e5f0ed8a-123f-46c5-9c05-10a790a74c3e"
      },
      "outputs": [
        {
          "name": "stdout",
          "output_type": "stream",
          "text": [
            "Requirement already satisfied: kaggle in /usr/local/lib/python3.10/dist-packages (1.6.17)\n",
            "Requirement already satisfied: six>=1.10 in /usr/local/lib/python3.10/dist-packages (from kaggle) (1.17.0)\n",
            "Requirement already satisfied: certifi>=2023.7.22 in /usr/local/lib/python3.10/dist-packages (from kaggle) (2024.12.14)\n",
            "Requirement already satisfied: python-dateutil in /usr/local/lib/python3.10/dist-packages (from kaggle) (2.8.2)\n",
            "Requirement already satisfied: requests in /usr/local/lib/python3.10/dist-packages (from kaggle) (2.32.3)\n",
            "Requirement already satisfied: tqdm in /usr/local/lib/python3.10/dist-packages (from kaggle) (4.67.1)\n",
            "Requirement already satisfied: python-slugify in /usr/local/lib/python3.10/dist-packages (from kaggle) (8.0.4)\n",
            "Requirement already satisfied: urllib3 in /usr/local/lib/python3.10/dist-packages (from kaggle) (2.3.0)\n",
            "Requirement already satisfied: bleach in /usr/local/lib/python3.10/dist-packages (from kaggle) (6.2.0)\n",
            "Requirement already satisfied: webencodings in /usr/local/lib/python3.10/dist-packages (from bleach->kaggle) (0.5.1)\n",
            "Requirement already satisfied: text-unidecode>=1.3 in /usr/local/lib/python3.10/dist-packages (from python-slugify->kaggle) (1.3)\n",
            "Requirement already satisfied: charset-normalizer<4,>=2 in /usr/local/lib/python3.10/dist-packages (from requests->kaggle) (3.4.1)\n",
            "Requirement already satisfied: idna<4,>=2.5 in /usr/local/lib/python3.10/dist-packages (from requests->kaggle) (3.10)\n"
          ]
        },
        {
          "data": {
            "text/html": [
              "\n",
              "     <input type=\"file\" id=\"files-00b0074e-ac9f-4264-a789-186689d9c0e2\" name=\"files[]\" multiple disabled\n",
              "        style=\"border:none\" />\n",
              "     <output id=\"result-00b0074e-ac9f-4264-a789-186689d9c0e2\">\n",
              "      Upload widget is only available when the cell has been executed in the\n",
              "      current browser session. Please rerun this cell to enable.\n",
              "      </output>\n",
              "      <script>// Copyright 2017 Google LLC\n",
              "//\n",
              "// Licensed under the Apache License, Version 2.0 (the \"License\");\n",
              "// you may not use this file except in compliance with the License.\n",
              "// You may obtain a copy of the License at\n",
              "//\n",
              "//      http://www.apache.org/licenses/LICENSE-2.0\n",
              "//\n",
              "// Unless required by applicable law or agreed to in writing, software\n",
              "// distributed under the License is distributed on an \"AS IS\" BASIS,\n",
              "// WITHOUT WARRANTIES OR CONDITIONS OF ANY KIND, either express or implied.\n",
              "// See the License for the specific language governing permissions and\n",
              "// limitations under the License.\n",
              "\n",
              "/**\n",
              " * @fileoverview Helpers for google.colab Python module.\n",
              " */\n",
              "(function(scope) {\n",
              "function span(text, styleAttributes = {}) {\n",
              "  const element = document.createElement('span');\n",
              "  element.textContent = text;\n",
              "  for (const key of Object.keys(styleAttributes)) {\n",
              "    element.style[key] = styleAttributes[key];\n",
              "  }\n",
              "  return element;\n",
              "}\n",
              "\n",
              "// Max number of bytes which will be uploaded at a time.\n",
              "const MAX_PAYLOAD_SIZE = 100 * 1024;\n",
              "\n",
              "function _uploadFiles(inputId, outputId) {\n",
              "  const steps = uploadFilesStep(inputId, outputId);\n",
              "  const outputElement = document.getElementById(outputId);\n",
              "  // Cache steps on the outputElement to make it available for the next call\n",
              "  // to uploadFilesContinue from Python.\n",
              "  outputElement.steps = steps;\n",
              "\n",
              "  return _uploadFilesContinue(outputId);\n",
              "}\n",
              "\n",
              "// This is roughly an async generator (not supported in the browser yet),\n",
              "// where there are multiple asynchronous steps and the Python side is going\n",
              "// to poll for completion of each step.\n",
              "// This uses a Promise to block the python side on completion of each step,\n",
              "// then passes the result of the previous step as the input to the next step.\n",
              "function _uploadFilesContinue(outputId) {\n",
              "  const outputElement = document.getElementById(outputId);\n",
              "  const steps = outputElement.steps;\n",
              "\n",
              "  const next = steps.next(outputElement.lastPromiseValue);\n",
              "  return Promise.resolve(next.value.promise).then((value) => {\n",
              "    // Cache the last promise value to make it available to the next\n",
              "    // step of the generator.\n",
              "    outputElement.lastPromiseValue = value;\n",
              "    return next.value.response;\n",
              "  });\n",
              "}\n",
              "\n",
              "/**\n",
              " * Generator function which is called between each async step of the upload\n",
              " * process.\n",
              " * @param {string} inputId Element ID of the input file picker element.\n",
              " * @param {string} outputId Element ID of the output display.\n",
              " * @return {!Iterable<!Object>} Iterable of next steps.\n",
              " */\n",
              "function* uploadFilesStep(inputId, outputId) {\n",
              "  const inputElement = document.getElementById(inputId);\n",
              "  inputElement.disabled = false;\n",
              "\n",
              "  const outputElement = document.getElementById(outputId);\n",
              "  outputElement.innerHTML = '';\n",
              "\n",
              "  const pickedPromise = new Promise((resolve) => {\n",
              "    inputElement.addEventListener('change', (e) => {\n",
              "      resolve(e.target.files);\n",
              "    });\n",
              "  });\n",
              "\n",
              "  const cancel = document.createElement('button');\n",
              "  inputElement.parentElement.appendChild(cancel);\n",
              "  cancel.textContent = 'Cancel upload';\n",
              "  const cancelPromise = new Promise((resolve) => {\n",
              "    cancel.onclick = () => {\n",
              "      resolve(null);\n",
              "    };\n",
              "  });\n",
              "\n",
              "  // Wait for the user to pick the files.\n",
              "  const files = yield {\n",
              "    promise: Promise.race([pickedPromise, cancelPromise]),\n",
              "    response: {\n",
              "      action: 'starting',\n",
              "    }\n",
              "  };\n",
              "\n",
              "  cancel.remove();\n",
              "\n",
              "  // Disable the input element since further picks are not allowed.\n",
              "  inputElement.disabled = true;\n",
              "\n",
              "  if (!files) {\n",
              "    return {\n",
              "      response: {\n",
              "        action: 'complete',\n",
              "      }\n",
              "    };\n",
              "  }\n",
              "\n",
              "  for (const file of files) {\n",
              "    const li = document.createElement('li');\n",
              "    li.append(span(file.name, {fontWeight: 'bold'}));\n",
              "    li.append(span(\n",
              "        `(${file.type || 'n/a'}) - ${file.size} bytes, ` +\n",
              "        `last modified: ${\n",
              "            file.lastModifiedDate ? file.lastModifiedDate.toLocaleDateString() :\n",
              "                                    'n/a'} - `));\n",
              "    const percent = span('0% done');\n",
              "    li.appendChild(percent);\n",
              "\n",
              "    outputElement.appendChild(li);\n",
              "\n",
              "    const fileDataPromise = new Promise((resolve) => {\n",
              "      const reader = new FileReader();\n",
              "      reader.onload = (e) => {\n",
              "        resolve(e.target.result);\n",
              "      };\n",
              "      reader.readAsArrayBuffer(file);\n",
              "    });\n",
              "    // Wait for the data to be ready.\n",
              "    let fileData = yield {\n",
              "      promise: fileDataPromise,\n",
              "      response: {\n",
              "        action: 'continue',\n",
              "      }\n",
              "    };\n",
              "\n",
              "    // Use a chunked sending to avoid message size limits. See b/62115660.\n",
              "    let position = 0;\n",
              "    do {\n",
              "      const length = Math.min(fileData.byteLength - position, MAX_PAYLOAD_SIZE);\n",
              "      const chunk = new Uint8Array(fileData, position, length);\n",
              "      position += length;\n",
              "\n",
              "      const base64 = btoa(String.fromCharCode.apply(null, chunk));\n",
              "      yield {\n",
              "        response: {\n",
              "          action: 'append',\n",
              "          file: file.name,\n",
              "          data: base64,\n",
              "        },\n",
              "      };\n",
              "\n",
              "      let percentDone = fileData.byteLength === 0 ?\n",
              "          100 :\n",
              "          Math.round((position / fileData.byteLength) * 100);\n",
              "      percent.textContent = `${percentDone}% done`;\n",
              "\n",
              "    } while (position < fileData.byteLength);\n",
              "  }\n",
              "\n",
              "  // All done.\n",
              "  yield {\n",
              "    response: {\n",
              "      action: 'complete',\n",
              "    }\n",
              "  };\n",
              "}\n",
              "\n",
              "scope.google = scope.google || {};\n",
              "scope.google.colab = scope.google.colab || {};\n",
              "scope.google.colab._files = {\n",
              "  _uploadFiles,\n",
              "  _uploadFilesContinue,\n",
              "};\n",
              "})(self);\n",
              "</script> "
            ],
            "text/plain": [
              "<IPython.core.display.HTML object>"
            ]
          },
          "metadata": {},
          "output_type": "display_data"
        },
        {
          "name": "stdout",
          "output_type": "stream",
          "text": [
            "Saving kaggle.json to kaggle.json\n"
          ]
        }
      ],
      "source": [
        "# Kaggle API 라이브러리 설치\n",
        "!pip install kaggle\n",
        "\n",
        "# API 키 설정 (Google Colab 사용 시)\n",
        "from google.colab import files\n",
        "files.upload()  # kaggle.json 파일 업로드\n",
        "\n",
        "# API 키 저장\n",
        "!mkdir -p ~/.kaggle\n",
        "!cp kaggle.json ~/.kaggle/\n",
        "!chmod 600 ~/.kaggle/kaggle.json"
      ]
    },
    {
      "cell_type": "code",
      "execution_count": null,
      "metadata": {
        "colab": {
          "base_uri": "https://localhost:8080/"
        },
        "id": "QOb3il2_OwDB",
        "outputId": "9710092b-dca1-435b-d9cd-86b5d31b116e"
      },
      "outputs": [
        {
          "name": "stdout",
          "output_type": "stream",
          "text": [
            "Dataset URL: https://www.kaggle.com/datasets/nehalbirla/vehicle-dataset-from-cardekho\n",
            "License(s): DbCL-1.0\n",
            "Downloading vehicle-dataset-from-cardekho.zip to /content\n",
            "  0% 0.00/292k [00:00<?, ?B/s]\n",
            "100% 292k/292k [00:00<00:00, 76.3MB/s]\n",
            "Archive:  vehicle-dataset-from-cardekho.zip\n",
            "  inflating: CAR DETAILS FROM CAR DEKHO.csv  \n",
            "  inflating: Car details v3.csv      \n",
            "  inflating: car data.csv            \n",
            "  inflating: car details v4.csv      \n",
            "데이터 크기: (301, 9)\n",
            "\n",
            "처음 5개 행:\n",
            "  Car_Name  Year  Selling_Price  Present_Price  Kms_Driven Fuel_Type  \\\n",
            "0     ritz  2014           3.35           5.59       27000    Petrol   \n",
            "1      sx4  2013           4.75           9.54       43000    Diesel   \n",
            "2     ciaz  2017           7.25           9.85        6900    Petrol   \n",
            "3  wagon r  2011           2.85           4.15        5200    Petrol   \n",
            "4    swift  2014           4.60           6.87       42450    Diesel   \n",
            "\n",
            "  Seller_Type Transmission  Owner  \n",
            "0      Dealer       Manual      0  \n",
            "1      Dealer       Manual      0  \n",
            "2      Dealer       Manual      0  \n",
            "3      Dealer       Manual      0  \n",
            "4      Dealer       Manual      0  \n",
            "\n",
            "기본 통계 정보:\n",
            "              Year  Selling_Price  Present_Price     Kms_Driven       Owner\n",
            "count   301.000000     301.000000     301.000000     301.000000  301.000000\n",
            "mean   2013.627907       4.661296       7.628472   36947.205980    0.043189\n",
            "std       2.891554       5.082812       8.644115   38886.883882    0.247915\n",
            "min    2003.000000       0.100000       0.320000     500.000000    0.000000\n",
            "25%    2012.000000       0.900000       1.200000   15000.000000    0.000000\n",
            "50%    2014.000000       3.600000       6.400000   32000.000000    0.000000\n",
            "75%    2016.000000       6.000000       9.900000   48767.000000    0.000000\n",
            "max    2018.000000      35.000000      92.600000  500000.000000    3.000000\n"
          ]
        }
      ],
      "source": [
        "# 데이터셋 다운로드\n",
        "!kaggle datasets download -d nehalbirla/vehicle-dataset-from-cardekho\n",
        "\n",
        "# 압축 해제\n",
        "!unzip vehicle-dataset-from-cardekho.zip\n",
        "\n",
        "# 데이터 로드\n",
        "import pandas as pd\n",
        "\n",
        "# CSV 파일 읽기\n",
        "df = pd.read_csv('car data.csv')\n",
        "\n",
        "# 데이터 확인\n",
        "print(\"데이터 크기:\", df.shape)\n",
        "print(\"\\n처음 5개 행:\")\n",
        "print(df.head())\n",
        "print(\"\\n기본 통계 정보:\")\n",
        "print(df.describe())"
      ]
    },
    {
      "cell_type": "code",
      "execution_count": null,
      "metadata": {
        "colab": {
          "base_uri": "https://localhost:8080/"
        },
        "id": "q0IBLdYiPCHA",
        "outputId": "58098999-0b0c-49f1-8581-b37ecb92415e"
      },
      "outputs": [
        {
          "name": "stdout",
          "output_type": "stream",
          "text": [
            "결측치 개수:\n",
            "Car_Name         0\n",
            "Year             0\n",
            "Selling_Price    0\n",
            "Present_Price    0\n",
            "Kms_Driven       0\n",
            "Fuel_Type        0\n",
            "Seller_Type      0\n",
            "Transmission     0\n",
            "Owner            0\n",
            "dtype: int64\n",
            "\n",
            "전처리 후 데이터:\n",
            "   Year  Selling_Price  Kms_Driven  Fuel_Type_CNG  Fuel_Type_Diesel  \\\n",
            "0  2014           3.35       27000          False             False   \n",
            "1  2013           4.75       43000          False              True   \n",
            "2  2017           7.25        6900          False             False   \n",
            "3  2011           2.85        5200          False             False   \n",
            "4  2014           4.60       42450          False              True   \n",
            "\n",
            "   Fuel_Type_Petrol  Seller_Type_Dealer  Seller_Type_Individual  \\\n",
            "0              True                True                   False   \n",
            "1             False                True                   False   \n",
            "2              True                True                   False   \n",
            "3              True                True                   False   \n",
            "4             False                True                   False   \n",
            "\n",
            "   Transmission_Automatic  Transmission_Manual  Owner_0  Owner_1  Owner_3  \n",
            "0                   False                 True     True    False    False  \n",
            "1                   False                 True     True    False    False  \n",
            "2                   False                 True     True    False    False  \n",
            "3                   False                 True     True    False    False  \n",
            "4                   False                 True     True    False    False  \n"
          ]
        }
      ],
      "source": [
        "# 결측치 확인\n",
        "print(\"결측치 개수:\")\n",
        "print(df.isnull().sum())\n",
        "\n",
        "# 필요한 컬럼만 선택\n",
        "df = df[['Year', 'Selling_Price', 'Kms_Driven', 'Fuel_Type', 'Seller_Type', 'Transmission', 'Owner']]\n",
        "\n",
        "# 범주형 데이터 원-핫 인코딩\n",
        "df = pd.get_dummies(df, columns=['Fuel_Type', 'Seller_Type', 'Transmission', 'Owner'])\n",
        "\n",
        "print(\"\\n전처리 후 데이터:\")\n",
        "print(df.head())"
      ]
    },
    {
      "cell_type": "code",
      "execution_count": null,
      "metadata": {
        "id": "XV3Pj9t8QxXb"
      },
      "outputs": [],
      "source": [
        "import pandas as pd\n",
        "import numpy as np\n",
        "from sklearn.model_selection import train_test_split\n",
        "from sklearn.preprocessing import StandardScaler\n",
        "from sklearn.linear_model import LinearRegression\n",
        "from sklearn.ensemble import RandomForestRegressor\n",
        "import xgboost as xgb\n",
        "from sklearn.metrics import mean_squared_error, r2_score\n",
        "import matplotlib.pyplot as plt"
      ]
    },
    {
      "cell_type": "code",
      "execution_count": null,
      "metadata": {
        "id": "rGF4D662RiuC"
      },
      "outputs": [],
      "source": [
        "# 1. 데이터 전처리\n",
        "def preprocess_data(df):\n",
        "    \"\"\"\n",
        "    데이터 전처리 함수\n",
        "    - 특성 스케일링\n",
        "    - 학습/테스트 데이터 분리\n",
        "    \"\"\"\n",
        "    # 특성(X)과 타겟(y) 분리\n",
        "    X = df.drop('Selling_Price', axis=1)\n",
        "    y = df['Selling_Price']\n",
        "\n",
        "    # 학습용과 테스트용 데이터 분리 (80:20)\n",
        "    X_train, X_test, y_train, y_test = train_test_split(X, y, test_size=0.2, random_state=42)\n",
        "\n",
        "    # 특성 스케일링\n",
        "    scaler = StandardScaler()\n",
        "    X_train_scaled = scaler.fit_transform(X_train)\n",
        "    X_test_scaled = scaler.transform(X_test)\n",
        "\n",
        "    return X_train_scaled, X_test_scaled, y_train, y_test"
      ]
    },
    {
      "cell_type": "code",
      "execution_count": null,
      "metadata": {
        "id": "Y3yjEOttRnck"
      },
      "outputs": [],
      "source": [
        "# 2. 모델 학습 및 평가\n",
        "def train_and_evaluate_models(X_train, X_test, y_train, y_test):\n",
        "    \"\"\"\n",
        "    여러 모델을 학습하고 평가하는 함수\n",
        "    \"\"\"\n",
        "    models = {\n",
        "        'Linear Regression': LinearRegression(),\n",
        "        'Random Forest': RandomForestRegressor(n_estimators=100, random_state=42),\n",
        "        'XGBoost': xgb.XGBRegressor(random_state=42)\n",
        "    }\n",
        "\n",
        "    results = {}\n",
        "\n",
        "    for name, model in models.items():\n",
        "        print(f\"\\n=== {name} ===\")\n",
        "\n",
        "        # 모델 학습\n",
        "        model.fit(X_train, y_train)\n",
        "\n",
        "        # 예측\n",
        "        y_pred = model.predict(X_test)\n",
        "\n",
        "        # 평가 지표 계산\n",
        "        mse = mean_squared_error(y_test, y_pred)\n",
        "        rmse = np.sqrt(mse)\n",
        "        r2 = r2_score(y_test, y_pred)\n",
        "\n",
        "        print(f'RMSE: {rmse:,.0f}')\n",
        "        print(f'R2 Score: {r2:.3f}')\n",
        "\n",
        "        results[name] = {\n",
        "            'model': model,\n",
        "            'rmse': rmse,\n",
        "            'r2': r2,\n",
        "            'predictions': y_pred\n",
        "        }\n",
        "\n",
        "    return results"
      ]
    },
    {
      "cell_type": "code",
      "execution_count": null,
      "metadata": {
        "id": "IW8zPVF0RsT2"
      },
      "outputs": [],
      "source": [
        "# 3. 시각화 함수\n",
        "def visualize_results(y_test, results):\n",
        "    \"\"\"\n",
        "    모델 예측 결과를 시각화하는 함수\n",
        "    \"\"\"\n",
        "    plt.figure(figsize=(12, 6))\n",
        "\n",
        "    for name, result in results.items():\n",
        "        plt.scatter(y_test, result['predictions'], alpha=0.5, label=name)\n",
        "\n",
        "    plt.plot([y_test.min(), y_test.max()], [y_test.min(), y_test.max()],\n",
        "             'r--', lw=2)\n",
        "    plt.xlabel('real price')\n",
        "    plt.ylabel('predict price')\n",
        "    plt.title('real price vs predict price')\n",
        "    plt.legend()\n",
        "    plt.show()"
      ]
    },
    {
      "cell_type": "code",
      "execution_count": null,
      "metadata": {
        "colab": {
          "base_uri": "https://localhost:8080/",
          "height": 807
        },
        "id": "zyI_dFDqRwic",
        "outputId": "1685d355-d5e0-4268-ace8-1b36ecf51f88"
      },
      "outputs": [
        {
          "name": "stdout",
          "output_type": "stream",
          "text": [
            "\n",
            "=== Linear Regression ===\n",
            "RMSE: 3\n",
            "R2 Score: 0.590\n",
            "\n",
            "=== Random Forest ===\n",
            "RMSE: 2\n",
            "R2 Score: 0.823\n",
            "\n",
            "=== XGBoost ===\n",
            "RMSE: 3\n",
            "R2 Score: 0.678\n"
          ]
        },
        {
          "data": {
            "image/png": "[encoded data removed]",
            "text/plain": [
              "<Figure size 1200x600 with 1 Axes>"
            ]
          },
          "metadata": {},
          "output_type": "display_data"
        },
        {
          "name": "stdout",
          "output_type": "stream",
          "text": [
            "\n",
            "최적 모델: Random Forest\n"
          ]
        }
      ],
      "source": [
        "# 메인 실행 코드\n",
        "if __name__ == '__main__':\n",
        "\n",
        "    X = df.drop('Selling_Price', axis=1)\n",
        "    y = df['Selling_Price']\n",
        "\n",
        "    # 데이터 전처리\n",
        "    X_train_scaled, X_test_scaled, y_train, y_test = preprocess_data(df)\n",
        "\n",
        "    # 모델 학습 및 평가\n",
        "    results = train_and_evaluate_models(X_train_scaled, X_test_scaled, y_train, y_test)\n",
        "\n",
        "    # 결과 시각화\n",
        "    visualize_results(y_test, results)\n",
        "\n",
        "    # 가장 좋은 모델 찾기\n",
        "    best_model = min(results.items(), key=lambda x: x[1]['rmse'])\n",
        "    print(f\"\\n최적 모델: {best_model[0]}\")"
      ]
    },
    {
      "cell_type": "code",
      "execution_count": null,
      "metadata": {
        "colab": {
          "base_uri": "https://localhost:8080/"
        },
        "id": "9uRSpkfdSSNs",
        "outputId": "3d6070e2-9cb7-4877-bbfc-8ce01aebe34b"
      },
      "outputs": [
        {
          "name": "stdout",
          "output_type": "stream",
          "text": [
            "최적 파라미터: {'max_depth': 20, 'min_samples_leaf': 4, 'min_samples_split': 2, 'n_estimators': 200}\n"
          ]
        }
      ],
      "source": [
        "from sklearn.model_selection import GridSearchCV\n",
        "\n",
        "# 탐색할 하이퍼파라미터 설정\n",
        "param_grid = {\n",
        "    'n_estimators': [100, 200, 300],\n",
        "    'max_depth': [10, 20, 30, None],\n",
        "    'min_samples_split': [2, 5, 10],\n",
        "    'min_samples_leaf': [1, 2, 4]\n",
        "}\n",
        "\n",
        "# GridSearchCV로 최적 파라미터 찾기\n",
        "rf = RandomForestRegressor(random_state=42)\n",
        "grid_search = GridSearchCV(rf, param_grid, cv=5, scoring='neg_mean_squared_error')\n",
        "grid_search.fit(X_train_scaled, y_train)\n",
        "\n",
        "# 최적 파라미터 확인\n",
        "print(\"최적 파라미터:\", grid_search.best_params_)"
      ]
    },
    {
      "cell_type": "code",
      "execution_count": null,
      "metadata": {
        "colab": {
          "base_uri": "https://localhost:8080/",
          "height": 659
        },
        "id": "f3ol8zpaTiNF",
        "outputId": "59c0bd51-a940-4bae-b360-c6306814e7e3"
      },
      "outputs": [
        {
          "data": {
            "image/png": "[encoded data removed]",
            "text/plain": [
              "<Figure size 1000x600 with 1 Axes>"
            ]
          },
          "metadata": {},
          "output_type": "display_data"
        }
      ],
      "source": [
        "# 특성 중요도 시각화\n",
        "feature_importance = pd.DataFrame({\n",
        "    'feature': X.columns,\n",
        "    'importance': grid_search.best_estimator_.feature_importances_\n",
        "})\n",
        "feature_importance = feature_importance.sort_values('importance', ascending=False)\n",
        "\n",
        "plt.figure(figsize=(10, 6))\n",
        "plt.bar(feature_importance['feature'], feature_importance['importance'])\n",
        "plt.xticks(rotation=45)\n",
        "plt.title('feature importance')\n",
        "plt.show()"
      ]
    },
    {
      "cell_type": "code",
      "execution_count": null,
      "metadata": {
        "colab": {
          "base_uri": "https://localhost:8080/"
        },
        "id": "yREDF1xLXAnb",
        "outputId": "8865d1dd-e306-48ec-cf35-acafa0b1b915"
      },
      "outputs": [
        {
          "data": {
            "text/plain": [
              "['best_random_forest_model.pkl']"
            ]
          },
          "execution_count": 19,
          "metadata": {},
          "output_type": "execute_result"
        }
      ],
      "source": [
        "import joblib\n",
        "\n",
        "# 최적화된 모델 저장\n",
        "best_model = grid_search.best_estimator_\n",
        "joblib.dump(best_model, 'best_random_forest_model.pkl')"
      ]
    },
    {
      "cell_type": "code",
      "execution_count": null,
      "metadata": {
        "colab": {
          "base_uri": "https://localhost:8080/"
        },
        "id": "CnaAXYfb0yDA",
        "outputId": "fb6b572b-0236-4d27-aaf3-c6a8d06e5629"
      },
      "outputs": [
        {
          "name": "stdout",
          "output_type": "stream",
          "text": [
            "Requirement already satisfied: flask_cors in /usr/local/lib/python3.10/dist-packages (5.0.0)\n",
            "Requirement already satisfied: Flask>=0.9 in /usr/local/lib/python3.10/dist-packages (from flask_cors) (3.1.0)\n",
            "Requirement already satisfied: Werkzeug>=3.1 in /usr/local/lib/python3.10/dist-packages (from Flask>=0.9->flask_cors) (3.1.3)\n",
            "Requirement already satisfied: Jinja2>=3.1.2 in /usr/local/lib/python3.10/dist-packages (from Flask>=0.9->flask_cors) (3.1.4)\n",
            "Requirement already satisfied: itsdangerous>=2.2 in /usr/local/lib/python3.10/dist-packages (from Flask>=0.9->flask_cors) (2.2.0)\n",
            "Requirement already satisfied: click>=8.1.3 in /usr/local/lib/python3.10/dist-packages (from Flask>=0.9->flask_cors) (8.1.7)\n",
            "Requirement already satisfied: blinker>=1.9 in /usr/local/lib/python3.10/dist-packages (from Flask>=0.9->flask_cors) (1.9.0)\n",
            "Requirement already satisfied: MarkupSafe>=2.0 in /usr/local/lib/python3.10/dist-packages (from Jinja2>=3.1.2->Flask>=0.9->flask_cors) (3.0.2)\n",
            "Requirement already satisfied: pyngrok in /usr/local/lib/python3.10/dist-packages (7.2.3)\n",
            "Requirement already satisfied: PyYAML>=5.1 in /usr/local/lib/python3.10/dist-packages (from pyngrok) (6.0.2)\n",
            "Authtoken saved to configuration file: /root/.config/ngrok/ngrok.yml\n"
          ]
        }
      ],
      "source": [
        "# 필요한 라이브러리 설치\n",
        "!pip install flask-ngrok\n",
        "!pip install flask_cors\n",
        "!pip install pyngrok\n",
        "!ngrok config add-authtoken ???  # ngrok 계정의 authtoken이 필요합니다"
      ]
    },
    {
      "cell_type": "code",
      "execution_count": null,
      "metadata": {
        "colab": {
          "background_save": true,
          "base_uri": "https://localhost:8080/"
        },
        "id": "cyN7cL659VDd",
        "outputId": "a4390af0-3959-428e-c7cc-4e26adbc8295"
      },
      "outputs": [
        {
          "name": "stdout",
          "output_type": "stream",
          "text": [
            "서버 시작...\n",
            "Public URL: NgrokTunnel: \"https://35c3-34-48-144-196.ngrok-free.app\" -> \"http://localhost:5000\"\n",
            " * Serving Flask app '__main__'\n",
            " * Debug mode: off\n"
          ]
        },
        {
          "name": "stderr",
          "output_type": "stream",
          "text": [
            "INFO:werkzeug:\u001b[31m\u001b[1mWARNING: This is a development server. Do not use it in a production deployment. Use a production WSGI server instead.\u001b[0m\n",
            " * Running on http://127.0.0.1:5000\n",
            "INFO:werkzeug:\u001b[33mPress CTRL+C to quit\u001b[0m\n",
            "/usr/local/lib/python3.10/dist-packages/sklearn/utils/validation.py:2732: UserWarning: X has feature names, but RandomForestRegressor was fitted without feature names\n",
            "  warnings.warn(\n",
            "INFO:werkzeug:127.0.0.1 - - [15/Jan/2025 03:32:41] \"POST /predict HTTP/1.1\" 200 -\n"
          ]
        },
        {
          "name": "stdout",
          "output_type": "stream",
          "text": [
            "받은 데이터: {'year': 2014, 'kms_driven': 14000, 'fuel_type_cng': True, 'fuel_type_diesel': False, 'fuel_type_petrol': False, 'seller_type_dealer': True, 'seller_type_individual': False, 'transmission_automatic': False, 'transmission_manual': True, 'owner_0': False, 'owner_1': False, 'owner_3': False}\n",
            "변환된 데이터프레임:    Year  Kms_Driven  Fuel_Type_Cng  Fuel_Type_Diesel  Fuel_Type_Petrol  \\\n",
            "0  2014       14000           True             False             False   \n",
            "\n",
            "   Seller_Type_Individual  Seller_Type_Dealer  Transmission_Manual  \\\n",
            "0                   False                True                 True   \n",
            "\n",
            "   Transmission_Automatic  Owner_0  Owner_1  Owner_3  \n",
            "0                   False    False    False    False  \n",
            "예측값: [4.34245083]\n"
          ]
        },
        {
          "name": "stderr",
          "output_type": "stream",
          "text": [
            "/usr/local/lib/python3.10/dist-packages/sklearn/utils/validation.py:2732: UserWarning: X has feature names, but RandomForestRegressor was fitted without feature names\n",
            "  warnings.warn(\n",
            "INFO:werkzeug:127.0.0.1 - - [15/Jan/2025 03:39:40] \"POST /predict HTTP/1.1\" 200 -\n"
          ]
        },
        {
          "name": "stdout",
          "output_type": "stream",
          "text": [
            "받은 데이터: {'year': 2014, 'kms_driven': 14000, 'fuel_type_cng': True, 'fuel_type_diesel': False, 'fuel_type_petrol': False, 'seller_type_dealer': True, 'seller_type_individual': False, 'transmission_automatic': True, 'transmission_manual': False, 'owner_0': False, 'owner_1': False, 'owner_3': False}\n",
            "변환된 데이터프레임:    Year  Kms_Driven  Fuel_Type_Cng  Fuel_Type_Diesel  Fuel_Type_Petrol  \\\n",
            "0  2014       14000           True             False             False   \n",
            "\n",
            "   Seller_Type_Individual  Seller_Type_Dealer  Transmission_Manual  \\\n",
            "0                   False                True                False   \n",
            "\n",
            "   Transmission_Automatic  Owner_0  Owner_1  Owner_3  \n",
            "0                    True    False    False    False  \n",
            "예측값: [4.34245083]\n"
          ]
        },
        {
          "name": "stderr",
          "output_type": "stream",
          "text": [
            "/usr/local/lib/python3.10/dist-packages/sklearn/utils/validation.py:2732: UserWarning: X has feature names, but RandomForestRegressor was fitted without feature names\n",
            "  warnings.warn(\n",
            "INFO:werkzeug:127.0.0.1 - - [15/Jan/2025 03:41:29] \"POST /predict HTTP/1.1\" 200 -\n"
          ]
        },
        {
          "name": "stdout",
          "output_type": "stream",
          "text": [
            "받은 데이터: {'year': 2014, 'kms_driven': 14000, 'fuel_type_cng': True, 'fuel_type_diesel': False, 'fuel_type_petrol': False, 'seller_type_dealer': True, 'seller_type_individual': False, 'transmission_automatic': True, 'transmission_manual': False, 'owner_0': False, 'owner_1': False, 'owner_3': False}\n",
            "변환된 데이터프레임:    Year  Kms_Driven  Fuel_Type_Cng  Fuel_Type_Diesel  Fuel_Type_Petrol  \\\n",
            "0  2014       14000           True             False             False   \n",
            "\n",
            "   Seller_Type_Individual  Seller_Type_Dealer  Transmission_Manual  \\\n",
            "0                   False                True                False   \n",
            "\n",
            "   Transmission_Automatic  Owner_0  Owner_1  Owner_3  \n",
            "0                    True    False    False    False  \n",
            "예측값: [4.34245083]\n"
          ]
        },
        {
          "name": "stderr",
          "output_type": "stream",
          "text": [
            "/usr/local/lib/python3.10/dist-packages/sklearn/utils/validation.py:2732: UserWarning: X has feature names, but RandomForestRegressor was fitted without feature names\n",
            "  warnings.warn(\n",
            "INFO:werkzeug:127.0.0.1 - - [15/Jan/2025 03:44:26] \"POST /predict HTTP/1.1\" 200 -\n"
          ]
        },
        {
          "name": "stdout",
          "output_type": "stream",
          "text": [
            "받은 데이터: {'year': 2014, 'kms_driven': 140000, 'fuel_type_cng': True, 'fuel_type_diesel': False, 'fuel_type_petrol': False, 'seller_type_dealer': True, 'seller_type_individual': False, 'transmission_automatic': False, 'transmission_manual': True, 'owner_0': False, 'owner_1': False, 'owner_3': False}\n",
            "변환된 데이터프레임:    Year  Kms_Driven  Fuel_Type_Cng  Fuel_Type_Diesel  Fuel_Type_Petrol  \\\n",
            "0  2014      140000           True             False             False   \n",
            "\n",
            "   Seller_Type_Individual  Seller_Type_Dealer  Transmission_Manual  \\\n",
            "0                   False                True                 True   \n",
            "\n",
            "   Transmission_Automatic  Owner_0  Owner_1  Owner_3  \n",
            "0                   False    False    False    False  \n",
            "예측값: [4.34245083]\n"
          ]
        },
        {
          "name": "stderr",
          "output_type": "stream",
          "text": [
            "/usr/local/lib/python3.10/dist-packages/sklearn/utils/validation.py:2732: UserWarning: X has feature names, but RandomForestRegressor was fitted without feature names\n",
            "  warnings.warn(\n",
            "INFO:werkzeug:127.0.0.1 - - [15/Jan/2025 03:48:02] \"POST /predict HTTP/1.1\" 200 -\n"
          ]
        },
        {
          "name": "stdout",
          "output_type": "stream",
          "text": [
            "받은 데이터: {'year': 2014, 'kms_driven': 140000, 'fuel_type_cng': True, 'fuel_type_diesel': False, 'fuel_type_petrol': False, 'seller_type_dealer': False, 'seller_type_individual': True, 'transmission_automatic': True, 'transmission_manual': False, 'owner_0': False, 'owner_1': False, 'owner_3': False}\n",
            "변환된 데이터프레임:    Year  Kms_Driven  Fuel_Type_Cng  Fuel_Type_Diesel  Fuel_Type_Petrol  \\\n",
            "0  2014      140000           True             False             False   \n",
            "\n",
            "   Seller_Type_Individual  Seller_Type_Dealer  Transmission_Manual  \\\n",
            "0                    True               False                False   \n",
            "\n",
            "   Transmission_Automatic  Owner_0  Owner_1  Owner_3  \n",
            "0                    True    False    False    False  \n",
            "예측값: [6.32322832]\n"
          ]
        },
        {
          "name": "stderr",
          "output_type": "stream",
          "text": [
            "/usr/local/lib/python3.10/dist-packages/sklearn/utils/validation.py:2732: UserWarning: X has feature names, but RandomForestRegressor was fitted without feature names\n",
            "  warnings.warn(\n",
            "INFO:werkzeug:127.0.0.1 - - [15/Jan/2025 03:48:54] \"POST /predict HTTP/1.1\" 200 -\n"
          ]
        },
        {
          "name": "stdout",
          "output_type": "stream",
          "text": [
            "받은 데이터: {'year': 2014, 'kms_driven': 140000, 'fuel_type_cng': True, 'fuel_type_diesel': False, 'fuel_type_petrol': False, 'seller_type_dealer': False, 'seller_type_individual': True, 'transmission_automatic': True, 'transmission_manual': False, 'owner_0': False, 'owner_1': False, 'owner_3': False}\n",
            "변환된 데이터프레임:    Year  Kms_Driven  Fuel_Type_Cng  Fuel_Type_Diesel  Fuel_Type_Petrol  \\\n",
            "0  2014      140000           True             False             False   \n",
            "\n",
            "   Seller_Type_Individual  Seller_Type_Dealer  Transmission_Manual  \\\n",
            "0                    True               False                False   \n",
            "\n",
            "   Transmission_Automatic  Owner_0  Owner_1  Owner_3  \n",
            "0                    True    False    False    False  \n",
            "예측값: [6.32322832]\n"
          ]
        },
        {
          "name": "stderr",
          "output_type": "stream",
          "text": [
            "/usr/local/lib/python3.10/dist-packages/sklearn/utils/validation.py:2732: UserWarning: X has feature names, but RandomForestRegressor was fitted without feature names\n",
            "  warnings.warn(\n",
            "INFO:werkzeug:127.0.0.1 - - [15/Jan/2025 03:49:04] \"POST /predict HTTP/1.1\" 200 -\n"
          ]
        },
        {
          "name": "stdout",
          "output_type": "stream",
          "text": [
            "받은 데이터: {'year': 2014, 'kms_driven': 140000, 'fuel_type_cng': True, 'fuel_type_diesel': False, 'fuel_type_petrol': False, 'seller_type_dealer': True, 'seller_type_individual': False, 'transmission_automatic': True, 'transmission_manual': False, 'owner_0': False, 'owner_1': False, 'owner_3': False}\n",
            "변환된 데이터프레임:    Year  Kms_Driven  Fuel_Type_Cng  Fuel_Type_Diesel  Fuel_Type_Petrol  \\\n",
            "0  2014      140000           True             False             False   \n",
            "\n",
            "   Seller_Type_Individual  Seller_Type_Dealer  Transmission_Manual  \\\n",
            "0                   False                True                False   \n",
            "\n",
            "   Transmission_Automatic  Owner_0  Owner_1  Owner_3  \n",
            "0                    True    False    False    False  \n",
            "예측값: [4.34245083]\n"
          ]
        },
        {
          "name": "stderr",
          "output_type": "stream",
          "text": [
            "/usr/local/lib/python3.10/dist-packages/sklearn/utils/validation.py:2732: UserWarning: X has feature names, but RandomForestRegressor was fitted without feature names\n",
            "  warnings.warn(\n",
            "INFO:werkzeug:127.0.0.1 - - [15/Jan/2025 03:49:15] \"POST /predict HTTP/1.1\" 200 -\n"
          ]
        },
        {
          "name": "stdout",
          "output_type": "stream",
          "text": [
            "받은 데이터: {'year': 2014, 'kms_driven': 1400000, 'fuel_type_cng': True, 'fuel_type_diesel': False, 'fuel_type_petrol': False, 'seller_type_dealer': True, 'seller_type_individual': False, 'transmission_automatic': True, 'transmission_manual': False, 'owner_0': False, 'owner_1': False, 'owner_3': False}\n",
            "변환된 데이터프레임:    Year  Kms_Driven  Fuel_Type_Cng  Fuel_Type_Diesel  Fuel_Type_Petrol  \\\n",
            "0  2014     1400000           True             False             False   \n",
            "\n",
            "   Seller_Type_Individual  Seller_Type_Dealer  Transmission_Manual  \\\n",
            "0                   False                True                False   \n",
            "\n",
            "   Transmission_Automatic  Owner_0  Owner_1  Owner_3  \n",
            "0                    True    False    False    False  \n",
            "예측값: [4.34245083]\n"
          ]
        },
        {
          "name": "stderr",
          "output_type": "stream",
          "text": [
            "/usr/local/lib/python3.10/dist-packages/sklearn/utils/validation.py:2732: UserWarning: X has feature names, but RandomForestRegressor was fitted without feature names\n",
            "  warnings.warn(\n",
            "INFO:werkzeug:127.0.0.1 - - [15/Jan/2025 03:55:57] \"POST /predict HTTP/1.1\" 200 -\n"
          ]
        },
        {
          "name": "stdout",
          "output_type": "stream",
          "text": [
            "받은 데이터: {'year': 2014, 'kms_driven': 140000, 'fuel_type_cng': True, 'fuel_type_diesel': False, 'fuel_type_petrol': False, 'seller_type_dealer': True, 'seller_type_individual': False, 'transmission_automatic': True, 'transmission_manual': False, 'owner_0': False, 'owner_1': True, 'owner_3': False}\n",
            "변환된 데이터프레임:    Year  Kms_Driven  Fuel_Type_Cng  Fuel_Type_Diesel  Fuel_Type_Petrol  \\\n",
            "0  2014      140000           True             False             False   \n",
            "\n",
            "   Seller_Type_Individual  Seller_Type_Dealer  Transmission_Manual  \\\n",
            "0                   False                True                False   \n",
            "\n",
            "   Transmission_Automatic  Owner_0  Owner_1  Owner_3  \n",
            "0                    True    False     True    False  \n",
            "예측값: [4.34245083]\n"
          ]
        },
        {
          "name": "stderr",
          "output_type": "stream",
          "text": [
            "/usr/local/lib/python3.10/dist-packages/sklearn/utils/validation.py:2732: UserWarning: X has feature names, but RandomForestRegressor was fitted without feature names\n",
            "  warnings.warn(\n",
            "INFO:werkzeug:127.0.0.1 - - [15/Jan/2025 03:57:55] \"POST /predict HTTP/1.1\" 200 -\n"
          ]
        },
        {
          "name": "stdout",
          "output_type": "stream",
          "text": [
            "받은 데이터: {'year': 2014, 'kms_driven': 140000, 'fuel_type_cng': False, 'fuel_type_diesel': True, 'fuel_type_petrol': False, 'seller_type_dealer': True, 'seller_type_individual': False, 'transmission_automatic': True, 'transmission_manual': False, 'owner_0': True, 'owner_1': False, 'owner_3': False}\n",
            "변환된 데이터프레임:    Year  Kms_Driven  Fuel_Type_Cng  Fuel_Type_Diesel  Fuel_Type_Petrol  \\\n",
            "0  2014      140000          False              True             False   \n",
            "\n",
            "   Seller_Type_Individual  Seller_Type_Dealer  Transmission_Manual  \\\n",
            "0                   False                True                False   \n",
            "\n",
            "   Transmission_Automatic  Owner_0  Owner_1  Owner_3  \n",
            "0                    True     True    False    False  \n",
            "예측값: [9.30036917]\n"
          ]
        },
        {
          "name": "stderr",
          "output_type": "stream",
          "text": [
            "/usr/local/lib/python3.10/dist-packages/sklearn/utils/validation.py:2732: UserWarning: X has feature names, but RandomForestRegressor was fitted without feature names\n",
            "  warnings.warn(\n",
            "INFO:werkzeug:127.0.0.1 - - [15/Jan/2025 03:58:13] \"POST /predict HTTP/1.1\" 200 -\n"
          ]
        },
        {
          "name": "stdout",
          "output_type": "stream",
          "text": [
            "받은 데이터: {'year': 2014, 'kms_driven': 140000, 'fuel_type_cng': True, 'fuel_type_diesel': False, 'fuel_type_petrol': False, 'seller_type_dealer': True, 'seller_type_individual': False, 'transmission_automatic': True, 'transmission_manual': False, 'owner_0': True, 'owner_1': False, 'owner_3': False}\n",
            "변환된 데이터프레임:    Year  Kms_Driven  Fuel_Type_Cng  Fuel_Type_Diesel  Fuel_Type_Petrol  \\\n",
            "0  2014      140000           True             False             False   \n",
            "\n",
            "   Seller_Type_Individual  Seller_Type_Dealer  Transmission_Manual  \\\n",
            "0                   False                True                False   \n",
            "\n",
            "   Transmission_Automatic  Owner_0  Owner_1  Owner_3  \n",
            "0                    True     True    False    False  \n",
            "예측값: [4.34245083]\n"
          ]
        }
      ],
      "source": [
        "from flask import Flask, request, jsonify\n",
        "from pyngrok import ngrok\n",
        "from flask_cors import CORS\n",
        "import joblib\n",
        "import pandas as pd\n",
        "import os\n",
        "# 모든 ngrok 프로세스 완전 종료 후 다시 시작\n",
        "from pyngrok import ngrok, conf\n",
        "\n",
        "# 모든 프로세스 종료\n",
        "ngrok.kill()\n",
        "\n",
        "app = Flask(__name__)\n",
        "CORS(app)\n",
        "\n",
        "# 모델 로드\n",
        "best_model = joblib.load('/content/best_random_forest_model.pkl')\n",
        "\n",
        "@app.route('/predict', methods=['POST'])\n",
        "def predict():\n",
        "    try:\n",
        "        data = request.get_json()\n",
        "        print(\"받은 데이터:\", data)  # 디버깅용\n",
        "\n",
        "        # 데이터프레임으로 변환\n",
        "        input_data = {\n",
        "            'Year': [data['year']],\n",
        "            'Kms_Driven': [data['kms_driven']],\n",
        "            'Fuel_Type_Cng': [data['fuel_type_cng']],\n",
        "            'Fuel_Type_Diesel': [data['fuel_type_diesel']],\n",
        "            'Fuel_Type_Petrol': [data['fuel_type_petrol']],\n",
        "            'Seller_Type_Individual': [data['seller_type_individual']],\n",
        "            'Seller_Type_Dealer': [data['seller_type_dealer']],\n",
        "            'Transmission_Manual': [data['transmission_manual']],\n",
        "            'Transmission_Automatic': [data['transmission_automatic']],\n",
        "            'Owner_0': [data['owner_0']],\n",
        "            'Owner_1': [data['owner_1']],\n",
        "            'Owner_3': [data['owner_3']]\n",
        "        }\n",
        "\n",
        "        input_df = pd.DataFrame(input_data)\n",
        "        print(\"변환된 데이터프레임:\", input_df)  # 디버깅용\n",
        "\n",
        "        prediction = best_model.predict(input_df)\n",
        "        print(\"예측값:\", prediction)  # 디버깅용\n",
        "\n",
        "        return jsonify({'predicted_price': float(prediction[0])})\n",
        "\n",
        "    except Exception as e:\n",
        "        print(\"에러 발생:\", str(e))\n",
        "        return jsonify({'error': str(e)}), 500\n",
        "\n",
        "def run_app():\n",
        "    try:\n",
        "        # ngrok 설정\n",
        "        public_url = ngrok.connect(5000)\n",
        "        print('Public URL:', public_url)\n",
        "\n",
        "        # Flask 앱 실행\n",
        "        app.run(debug=False)  # debug 모드를 False로 설정\n",
        "    except Exception as e:\n",
        "        print(f\"Error: {e}\")\n",
        "\n",
        "if __name__ == '__main__':\n",
        "    print(\"서버 시작...\")\n",
        "    run_app()"
      ]
    }
  ],
  "metadata": {
    "colab": {
      "provenance": [],
      "authorship_tag": "ABX9TyMStGmaxXvDj+XKlIrnVUXA",
      "include_colab_link": true
    },
    "kernelspec": {
      "display_name": "Python 3",
      "name": "python3"
    },
    "language_info": {
      "name": "python"
    }
  },
  "nbformat": 4,
  "nbformat_minor": 0
}